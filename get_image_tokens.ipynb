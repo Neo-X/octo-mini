{
 "cells": [
  {
   "cell_type": "code",
   "execution_count": 1,
   "metadata": {},
   "outputs": [
    {
     "data": {
      "text/plain": [
       "<torch._C.Generator at 0x7f6c08fd4710>"
      ]
     },
     "execution_count": 1,
     "metadata": {},
     "output_type": "execute_result"
    }
   ],
   "source": [
    "## How do we get tokens for images??\n",
    "import numpy as np\n",
    "\n",
    "from tqdm import tqdm, trange\n",
    "\n",
    "import torch\n",
    "import torch.nn as nn\n",
    "from torch.optim import Adam\n",
    "from torch.nn import CrossEntropyLoss\n",
    "from torch.utils.data import DataLoader\n",
    "\n",
    "from torchvision.transforms import ToTensor\n",
    "from torchvision.datasets.mnist import MNIST\n",
    "\n",
    "np.random.seed(0)\n",
    "torch.manual_seed(0)"
   ]
  },
  {
   "cell_type": "code",
   "execution_count": 22,
   "metadata": {},
   "outputs": [],
   "source": [
    "\n",
    "# Loading data\n",
    "transform = ToTensor()\n",
    "\n",
    "train_set = MNIST(root='./datasets', train=True, download=True, transform=transform)\n",
    "test_set = MNIST(root='./datasets', train=False, download=True, transform=transform)\n",
    "\n",
    "train_loader = DataLoader(train_set, shuffle=True, batch_size=64)\n",
    "test_loader = DataLoader(test_set, shuffle=False, batch_size=64)"
   ]
  },
  {
   "cell_type": "code",
   "execution_count": 3,
   "metadata": {},
   "outputs": [
    {
     "name": "stdout",
     "output_type": "stream",
     "text": [
      "Using device:  cuda (NVIDIA GeForce RTX 3070 Laptop GPU)\n"
     ]
    }
   ],
   "source": [
    "# Defining model and training options\n",
    "device = torch.device(\"cuda\" if torch.cuda.is_available() else \"cpu\")\n",
    "print(\"Using device: \", device, f\"({torch.cuda.get_device_name(device)})\" if torch.cuda.is_available() else \"\")"
   ]
  },
  {
   "cell_type": "markdown",
   "metadata": {},
   "source": [
    "# Reshaping the inputs\n",
    "In this case the image needs to be cut into patches. \n",
    "The images from MNIST are 1x28x28 (channel first).\n",
    "It is a bit delicate to create the patching, and in practice these \"patches\" become flat vectors.\n",
    "Also, we only have grayscale images without additional colour channel. \n",
    "Those additional colour channels will be delt with later.\n"
   ]
  },
  {
   "cell_type": "code",
   "execution_count": 25,
   "metadata": {},
   "outputs": [
    {
     "name": "stderr",
     "output_type": "stream",
     "text": [
      "                                                                     "
     ]
    },
    {
     "name": "stdout",
     "output_type": "stream",
     "text": [
      "patches torch.Size([64, 49, 16])\n",
      "patches_square torch.Size([64, 49, 1, 4, 4])\n"
     ]
    },
    {
     "name": "stderr",
     "output_type": "stream",
     "text": [
      "\r"
     ]
    }
   ],
   "source": [
    "import cv2\n",
    "batch = list(tqdm(train_loader, desc=f\"Epoch in training\", leave=False))[0]\n",
    "# print(batch)\n",
    "x, y = batch\n",
    "images = x\n",
    "n_patches = 7\n",
    "batch_size, channels, height, width = images.shape\n",
    "\n",
    "assert height == width, \"Patchify method is implemented for square images only\"\n",
    "\n",
    "patches = torch.zeros(batch_size, n_patches ** 2, height * width * channels // n_patches ** 2)\n",
    "## Getting the square patches (batch, n_patches, channels, height / n_patches, width / n_patches)\n",
    "patches_square = torch.zeros(batch_size, n_patches ** 2, channels, height // n_patches, width // n_patches)\n",
    "patch_size = height // n_patches\n",
    "\n",
    "for idx, image in enumerate(images):\n",
    "    # image = np.array([cv2.resize(np.array(image[0]), (64, 64))])\n",
    "    for i in range(n_patches):\n",
    "        for j in range(n_patches):\n",
    "            patch = image[:, i * patch_size: (i + 1) * patch_size, j * patch_size: (j + 1) * patch_size]\n",
    "            patches_square[idx, i * n_patches + j] = patch\n",
    "            patches[idx, i * n_patches + j] = patch.flatten()\n",
    "\n",
    "\n",
    "print(\"patches\", patches.shape)\n",
    "print(\"patches_square\", patches_square.shape)"
   ]
  },
  {
   "cell_type": "code",
   "execution_count": 12,
   "metadata": {},
   "outputs": [
    {
     "data": {
      "text/plain": [
       "<matplotlib.image.AxesImage at 0x7f6bf16cfac0>"
      ]
     },
     "execution_count": 12,
     "metadata": {},
     "output_type": "execute_result"
    },
    {
     "data": {
      "image/png": "[encoded data removed]",
      "text/plain": [
       "<Figure size 640x480 with 1 Axes>"
      ]
     },
     "metadata": {},
     "output_type": "display_data"
    }
   ],
   "source": [
    "import matplotlib.pyplot as plt\n",
    "\n",
    "# build image strip to show above actions\n",
    "image = images[0] ## Now 1x28x28\n",
    "plt.imshow(image[0]) ## Remove the channel first to plot.\n",
    "## Stack patches in a row we want 49x4x4 for the patches\n",
    "image_strip = np.reshape(patches_square[0], (4,4*49)) ## Stack patches in a row we want 49x4x4 for the patches\n",
    "plt.imshow(image_strip)\n"
   ]
  },
  {
   "cell_type": "code",
   "execution_count": 15,
   "metadata": {},
   "outputs": [
    {
     "data": {
      "text/plain": [
       "<matplotlib.image.AxesImage at 0x7f6ba8e79660>"
      ]
     },
     "execution_count": 15,
     "metadata": {},
     "output_type": "execute_result"
    },
    {
     "data": {
      "image/png": "[encoded data removed]",
      "text/plain": [
       "<Figure size 640x480 with 1 Axes>"
      ]
     },
     "metadata": {},
     "output_type": "display_data"
    }
   ],
   "source": [
    "import cv2\n",
    "image = cv2.resize(np.array(image[0]), (64, 64))\n",
    "plt.imshow(image)"
   ]
  }
 ],
 "metadata": {
  "kernelspec": {
   "display_name": "roble",
   "language": "python",
   "name": "python3"
  },
  "language_info": {
   "codemirror_mode": {
    "name": "ipython",
    "version": 3
   },
   "file_extension": ".py",
   "mimetype": "text/x-python",
   "name": "python",
   "nbconvert_exporter": "python",
   "pygments_lexer": "ipython3",
   "version": "3.10.14"
  }
 },
 "nbformat": 4,
 "nbformat_minor": 2
}
